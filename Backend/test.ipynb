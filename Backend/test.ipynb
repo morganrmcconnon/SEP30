{
 "cells": [
  {
   "cell_type": "code",
   "execution_count": 3,
   "metadata": {},
   "outputs": [
    {
     "name": "stdout",
     "output_type": "stream",
     "text": [
      "['https://archive.org/download/archiveteam-twitter-stream-2022-01/twitter-stream-20220101.tar/20220101/20220101010100.json.gz']\n",
      "https://archive.org/download/archiveteam-twitter-stream-2022-01/twitter-stream-20220101.tar/20220101/20220101010100.json.gz\n"
     ]
    }
   ],
   "source": [
    "from tweets_downloader import get_tweets\n",
    "\n",
    "data = get_tweets(2022, 1, day = 1, hour = 1, minute = 1)"
   ]
  },
  {
   "cell_type": "code",
   "execution_count": 12,
   "metadata": {},
   "outputs": [
    {
     "data": {
      "text/plain": [
       "2645"
      ]
     },
     "execution_count": 12,
     "metadata": {},
     "output_type": "execute_result"
    }
   ],
   "source": [
    "len(data[list(data.keys())[0]])\n"
   ]
  }
 ],
 "metadata": {
  "kernelspec": {
   "display_name": ".venv",
   "language": "python",
   "name": "python3"
  },
  "language_info": {
   "codemirror_mode": {
    "name": "ipython",
    "version": 3
   },
   "file_extension": ".py",
   "mimetype": "text/x-python",
   "name": "python",
   "nbconvert_exporter": "python",
   "pygments_lexer": "ipython3",
   "version": "3.11.3"
  },
  "orig_nbformat": 4
 },
 "nbformat": 4,
 "nbformat_minor": 2
}
