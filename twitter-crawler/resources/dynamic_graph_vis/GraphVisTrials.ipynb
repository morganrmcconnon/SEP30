{
 "cells": [
  {
   "cell_type": "code",
   "execution_count": null,
   "id": "20e2f88e",
   "metadata": {},
   "outputs": [],
   "source": [
    "import networkx as nx\n",
    "from networkx.drawing.layout import spring_layout"
   ]
  },
  {
   "cell_type": "code",
   "execution_count": null,
   "id": "d1d824f9",
   "metadata": {},
   "outputs": [],
   "source": [
    "def draw(G, pos):\n",
    "    nodes = G.nodes()\n",
    "    labels = dict(zip(nodes,nodes))\n",
    "    nx.draw(G, pos=pos, labels=labels, font_size=12)"
   ]
  },
  {
   "cell_type": "code",
   "execution_count": null,
   "id": "78e2708c",
   "metadata": {},
   "outputs": [],
   "source": [
    "edges = [\n",
    "    (0,1),\n",
    "    (1,2),\n",
    "    (2,3),\n",
    "    (0,4),\n",
    "    (0,5),\n",
    "    (1,3)\n",
    "]"
   ]
  },
  {
   "cell_type": "code",
   "execution_count": null,
   "id": "fcfc3d92",
   "metadata": {},
   "outputs": [],
   "source": [
    "G = nx.DiGraph()\n",
    "G.add_edges_from(edges)\n",
    "pos1 = spring_layout(G, iterations=5)"
   ]
  },
  {
   "cell_type": "code",
   "execution_count": null,
   "id": "69fd0f7a",
   "metadata": {},
   "outputs": [],
   "source": [
    "H = G.copy()\n",
    "new_edges = [\n",
    "    (3,5),\n",
    "    (0,6)\n",
    "]\n",
    "H.add_edges_from(new_edges)\n",
    "pos2 = spring_layout(H, pos=pos1, iterations=2)"
   ]
  },
  {
   "cell_type": "code",
   "execution_count": null,
   "id": "34795914",
   "metadata": {},
   "outputs": [],
   "source": [
    "draw(G, pos1)"
   ]
  },
  {
   "cell_type": "code",
   "execution_count": null,
   "id": "580086b8",
   "metadata": {},
   "outputs": [],
   "source": [
    "draw(H, pos2)"
   ]
  },
  {
   "cell_type": "markdown",
   "id": "3528ae4c",
   "metadata": {},
   "source": [
    "from pyvis.network import Network\n",
    "net = Network()"
   ]
  },
  {
   "cell_type": "markdown",
   "id": "d602a3be",
   "metadata": {},
   "source": [
    "net.from_nx(H)"
   ]
  },
  {
   "cell_type": "markdown",
   "id": "27c02d6f",
   "metadata": {},
   "source": [
    "net.show(\"alma.html\")"
   ]
  },
  {
   "cell_type": "markdown",
   "id": "9ca4bfc2",
   "metadata": {},
   "source": [
    "net.add_node(7)"
   ]
  }
 ],
 "metadata": {
  "kernelspec": {
   "display_name": "Python [conda env:twittercrawler]",
   "language": "python",
   "name": "conda-env-twittercrawler-py"
  },
  "language_info": {
   "codemirror_mode": {
    "name": "ipython",
    "version": 3
   },
   "file_extension": ".py",
   "mimetype": "text/x-python",
   "name": "python",
   "nbconvert_exporter": "python",
   "pygments_lexer": "ipython3",
   "version": "3.7.10"
  }
 },
 "nbformat": 4,
 "nbformat_minor": 5
}
