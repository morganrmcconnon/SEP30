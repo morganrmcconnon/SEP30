{
 "cells": [
  {
   "cell_type": "code",
   "execution_count": 1,
   "metadata": {},
   "outputs": [],
   "source": [
    "from tweets_downloader import get_tweets\n"
   ]
  },
  {
   "cell_type": "code",
   "execution_count": 2,
   "metadata": {},
   "outputs": [
    {
     "name": "stdout",
     "output_type": "stream",
     "text": [
      "['https://archive.org/download/archiveteam-twitter-stream-2022-11/twitter-stream-20221101.tar/20221101/20221101000000.json.gz']\n",
      "https://archive.org/download/archiveteam-twitter-stream-2022-11/twitter-stream-20221101.tar/20221101/20221101000000.json.gz\n"
     ]
    }
   ],
   "source": [
    "\n",
    "data = get_tweets(2022, 11, day = 1, hour = 0, minute = 0)\n",
    "\n",
    "# 9.6s - 17.9s"
   ]
  },
  {
   "cell_type": "code",
   "execution_count": 3,
   "metadata": {},
   "outputs": [
    {
     "data": {
      "text/plain": [
       "2784"
      ]
     },
     "execution_count": 3,
     "metadata": {},
     "output_type": "execute_result"
    }
   ],
   "source": [
    "data = data[list(data.keys())[0]]\n",
    "len(data)\n"
   ]
  },
  {
   "cell_type": "code",
   "execution_count": 4,
   "metadata": {},
   "outputs": [],
   "source": [
    "from utils import *\n",
    "from datetime import datetime\n",
    "from collections import Counter\n",
    "# data = read_jsonl('test.json')\n",
    "timestamps = sorted([int(t['timestamp_ms']) for t in data])\n",
    "times = [datetime.fromtimestamp(t//1000.0) for t in timestamps]"
   ]
  },
  {
   "cell_type": "code",
   "execution_count": 5,
   "metadata": {},
   "outputs": [
    {
     "data": {
      "text/plain": [
       "[datetime.datetime(2022, 11, 1, 10, 59, 51),\n",
       " datetime.datetime(2022, 11, 1, 10, 59, 51),\n",
       " datetime.datetime(2022, 11, 1, 10, 59, 51),\n",
       " datetime.datetime(2022, 11, 1, 10, 59, 51),\n",
       " datetime.datetime(2022, 11, 1, 10, 59, 51),\n",
       " datetime.datetime(2022, 11, 1, 10, 59, 51),\n",
       " datetime.datetime(2022, 11, 1, 10, 59, 51),\n",
       " datetime.datetime(2022, 11, 1, 10, 59, 51),\n",
       " datetime.datetime(2022, 11, 1, 10, 59, 51),\n",
       " datetime.datetime(2022, 11, 1, 10, 59, 51)]"
      ]
     },
     "execution_count": 5,
     "metadata": {},
     "output_type": "execute_result"
    }
   ],
   "source": [
    "times[:10]"
   ]
  },
  {
   "cell_type": "code",
   "execution_count": 6,
   "metadata": {},
   "outputs": [
    {
     "data": {
      "text/plain": [
       "[datetime.datetime(2022, 11, 1, 11, 0, 51),\n",
       " datetime.datetime(2022, 11, 1, 11, 0, 51),\n",
       " datetime.datetime(2022, 11, 1, 11, 0, 51),\n",
       " datetime.datetime(2022, 11, 1, 11, 0, 51),\n",
       " datetime.datetime(2022, 11, 1, 11, 0, 51),\n",
       " datetime.datetime(2022, 11, 1, 11, 0, 51),\n",
       " datetime.datetime(2022, 11, 1, 11, 0, 51),\n",
       " datetime.datetime(2022, 11, 1, 11, 0, 51),\n",
       " datetime.datetime(2022, 11, 1, 11, 0, 51),\n",
       " datetime.datetime(2022, 11, 1, 11, 0, 51)]"
      ]
     },
     "execution_count": 6,
     "metadata": {},
     "output_type": "execute_result"
    }
   ],
   "source": [
    "times[-10:]"
   ]
  },
  {
   "cell_type": "code",
   "execution_count": 7,
   "metadata": {},
   "outputs": [
    {
     "data": {
      "text/plain": [
       "[(datetime.datetime(2022, 11, 1, 11, 0, 1), 68),\n",
       " (datetime.datetime(2022, 11, 1, 11, 0), 67),\n",
       " (datetime.datetime(2022, 11, 1, 11, 0, 32), 65),\n",
       " (datetime.datetime(2022, 11, 1, 11, 0, 50), 61),\n",
       " (datetime.datetime(2022, 11, 1, 11, 0, 14), 58),\n",
       " (datetime.datetime(2022, 11, 1, 11, 0, 2), 57),\n",
       " (datetime.datetime(2022, 11, 1, 11, 0, 5), 57),\n",
       " (datetime.datetime(2022, 11, 1, 11, 0, 8), 56),\n",
       " (datetime.datetime(2022, 11, 1, 11, 0, 34), 56),\n",
       " (datetime.datetime(2022, 11, 1, 10, 59, 58), 55)]"
      ]
     },
     "execution_count": 7,
     "metadata": {},
     "output_type": "execute_result"
    }
   ],
   "source": [
    "Counter(t for t in times).most_common(10) "
   ]
  }
 ],
 "metadata": {
  "kernelspec": {
   "display_name": ".venv",
   "language": "python",
   "name": "python3"
  },
  "language_info": {
   "codemirror_mode": {
    "name": "ipython",
    "version": 3
   },
   "file_extension": ".py",
   "mimetype": "text/x-python",
   "name": "python",
   "nbconvert_exporter": "python",
   "pygments_lexer": "ipython3",
   "version": "3.11.5"
  },
  "orig_nbformat": 4
 },
 "nbformat": 4,
 "nbformat_minor": 2
}
