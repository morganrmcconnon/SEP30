{
 "cells": [
  {
   "cell_type": "code",
   "execution_count": 1,
   "id": "initial_id",
   "metadata": {
    "collapsed": true,
    "ExecuteTime": {
     "end_time": "2023-08-31T00:31:53.463057Z",
     "start_time": "2023-08-31T00:31:35.280364700Z"
    }
   },
   "outputs": [],
   "source": [
    "from utils import utils\n",
    "import pandas as pd\n",
    "from m3inference import M3Twitter\n",
    "from m3inference.consts import UNKNOWN_LANG, LANGS\n",
    "from m3inference.utils import transform_jsonl_object_for_m3inference_text_model\n",
    "from googletrans import Translator\n",
    "from geopy.geocoders import Nominatim\n",
    "from geopy.exc import GeocoderTimedOut, GeocoderUnavailable\n",
    "import random\n",
    "\n",
    "TRANSLATOR = Translator()"
   ]
  },
  {
   "cell_type": "code",
   "execution_count": 4,
   "outputs": [],
   "source": [
    "import json\n",
    "data = []\n",
    "\n",
    "file_path = \"data\\\\testSM.json\"  # Replace with the actual path to your file\n",
    "with open(file_path, \"r\") as json_file:\n",
    "    for line in json_file:\n",
    "        data.append((json.loads(line)))\n",
    "\n",
    "users = [d['user'] for d in data]"
   ],
   "metadata": {
    "collapsed": false,
    "ExecuteTime": {
     "end_time": "2023-08-31T00:32:43.356756700Z",
     "start_time": "2023-08-31T00:32:43.348763900Z"
    }
   },
   "id": "e71d9ded83277a8c"
  },
  {
   "cell_type": "code",
   "execution_count": 5,
   "outputs": [],
   "source": [
    "new_data = []\n",
    "with open('test_processed_0.json', 'w') as f:\n",
    "    for tweet in data:\n",
    "        new_tweet = {}\n",
    "        new_tweet['lang'] = tweet['lang']\n",
    "        new_tweet['id_str'] = tweet['id_str']\n",
    "        new_tweet['text_original'] = utils.clean_tweet_text(utils.get_tweet_text(tweet))\n",
    "        new_user = {}\n",
    "        new_user['lang'] = tweet['user']['lang']\n",
    "        new_user['id'] = tweet['user']['id_str']\n",
    "        new_user['name'] = tweet['user']['name']\n",
    "        new_user['screen_name'] = tweet['user']['screen_name']\n",
    "        new_user['location_original'] = tweet['user']['location']\n",
    "        new_user['description_original'] = tweet['user']['description']\n",
    "  \n",
    "        new_tweet['user'] = new_user\n",
    "\n",
    "        new_data.append(new_tweet)\n",
    "        \n",
    "        f.write(json.dumps(new_tweet) + '\\n')"
   ],
   "metadata": {
    "collapsed": false,
    "ExecuteTime": {
     "end_time": "2023-08-31T00:32:54.184333800Z",
     "start_time": "2023-08-31T00:32:54.164299900Z"
    }
   },
   "id": "abdce4be6d138b57"
  },
  {
   "cell_type": "code",
   "execution_count": null,
   "outputs": [],
   "source": [],
   "metadata": {
    "collapsed": false
   },
   "id": "f3a3d3956f1a99a7"
  }
 ],
 "metadata": {
  "kernelspec": {
   "display_name": "Python 3",
   "language": "python",
   "name": "python3"
  },
  "language_info": {
   "codemirror_mode": {
    "name": "ipython",
    "version": 2
   },
   "file_extension": ".py",
   "mimetype": "text/x-python",
   "name": "python",
   "nbconvert_exporter": "python",
   "pygments_lexer": "ipython2",
   "version": "2.7.6"
  }
 },
 "nbformat": 4,
 "nbformat_minor": 5
}
