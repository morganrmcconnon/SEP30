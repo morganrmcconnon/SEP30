{
 "cells": [
  {
   "cell_type": "code",
   "execution_count": 2,
   "metadata": {},
   "outputs": [],
   "source": [
    "import os\n",
    "import pandas as pd"
   ]
  },
  {
   "cell_type": "code",
   "execution_count": 8,
   "metadata": {},
   "outputs": [],
   "source": [
    "\n",
    "\n",
    "# Get all txt files\n",
    "txt_files = []\n",
    "for dirpath, dirnames, filenames in os.walk(f\"data\"):\n",
    "    for filename in [f for f in filenames if f.endswith(\".txt\")]:\n",
    "        txt_files.append(os.path.join(dirpath, filename))\n",
    "txt_files\n",
    "\n",
    "list_df = []\n",
    "# Analyze each txt file\n",
    "for txt_file in txt_files:\n",
    "    data = open(txt_file, \"r\").read().split(\"\\n\")\n",
    "    # obj = {x : {\n",
    "    #     \"slash count\": x.split('.json.')[0].count(\"/\"),\n",
    "    #     \"size\": len(x.split('.json.')[0]),\n",
    "    #     } for x in data}\n",
    "    # Clear obj and leave with only keys with unique values\n",
    "    df = pd.DataFrame({\"url\": txt_file, \"file_name\": data})\n",
    "    list_df.append(df)\n",
    "\n",
    "df = pd.concat(list_df)"
   ]
  },
  {
   "cell_type": "code",
   "execution_count": 9,
   "metadata": {},
   "outputs": [],
   "source": [
    "df[\"slash count\"] = df[\"file_name\"].apply(lambda x: x.split(\".\")[0].count(\"/\"))\n",
    "df[\"size\"] = df[\"file_name\"].apply(lambda x: len(x.split(\".\")[0]))"
   ]
  },
  {
   "cell_type": "code",
   "execution_count": 17,
   "metadata": {},
   "outputs": [
    {
     "data": {
      "text/html": [
       "<div>\n",
       "<style scoped>\n",
       "    .dataframe tbody tr th:only-of-type {\n",
       "        vertical-align: middle;\n",
       "    }\n",
       "\n",
       "    .dataframe tbody tr th {\n",
       "        vertical-align: top;\n",
       "    }\n",
       "\n",
       "    .dataframe thead th {\n",
       "        text-align: right;\n",
       "    }\n",
       "</style>\n",
       "<table border=\"1\" class=\"dataframe\">\n",
       "  <thead>\n",
       "    <tr style=\"text-align: right;\">\n",
       "      <th></th>\n",
       "      <th>url</th>\n",
       "      <th>file_name</th>\n",
       "      <th>slash count</th>\n",
       "      <th>size</th>\n",
       "    </tr>\n",
       "  </thead>\n",
       "  <tbody>\n",
       "    <tr>\n",
       "      <th>0</th>\n",
       "      <td>data\\2011\\09\\twitter-json-scrape-2011-09.zip.txt</td>\n",
       "      <td>2011/09/27/19/48.json.bz2</td>\n",
       "      <td>4</td>\n",
       "      <td>16</td>\n",
       "    </tr>\n",
       "    <tr>\n",
       "      <th>0</th>\n",
       "      <td>data\\2012\\12\\archiveteam-twitter-2012-12.tar.txt</td>\n",
       "      <td>12/01/00/00.json.bz2</td>\n",
       "      <td>3</td>\n",
       "      <td>11</td>\n",
       "    </tr>\n",
       "    <tr>\n",
       "      <th>0</th>\n",
       "      <td>data\\2013\\04\\archiveteam-twitter-stream-2013-0...</td>\n",
       "      <td>04/00/00.json.bz2</td>\n",
       "      <td>2</td>\n",
       "      <td>8</td>\n",
       "    </tr>\n",
       "    <tr>\n",
       "      <th>0</th>\n",
       "      <td>data\\2013\\12\\archiveteam-twitter-stream-2013-1...</td>\n",
       "      <td>2013/12-b/01/00/00.json.bz2</td>\n",
       "      <td>4</td>\n",
       "      <td>18</td>\n",
       "    </tr>\n",
       "    <tr>\n",
       "      <th>0</th>\n",
       "      <td>data\\2014\\01\\archiveteam-twitter-stream-2014-0...</td>\n",
       "      <td></td>\n",
       "      <td>0</td>\n",
       "      <td>0</td>\n",
       "    </tr>\n",
       "    <tr>\n",
       "      <th>0</th>\n",
       "      <td>data\\2021\\08\\twitter-stream-20210823.tar.txt</td>\n",
       "      <td>20210823/20210823000000.json.gz</td>\n",
       "      <td>1</td>\n",
       "      <td>23</td>\n",
       "    </tr>\n",
       "  </tbody>\n",
       "</table>\n",
       "</div>"
      ],
      "text/plain": [
       "                                                 url  \\\n",
       "0   data\\2011\\09\\twitter-json-scrape-2011-09.zip.txt   \n",
       "0   data\\2012\\12\\archiveteam-twitter-2012-12.tar.txt   \n",
       "0  data\\2013\\04\\archiveteam-twitter-stream-2013-0...   \n",
       "0  data\\2013\\12\\archiveteam-twitter-stream-2013-1...   \n",
       "0  data\\2014\\01\\archiveteam-twitter-stream-2014-0...   \n",
       "0       data\\2021\\08\\twitter-stream-20210823.tar.txt   \n",
       "\n",
       "                         file_name  slash count  size  \n",
       "0        2011/09/27/19/48.json.bz2            4    16  \n",
       "0             12/01/00/00.json.bz2            3    11  \n",
       "0                04/00/00.json.bz2            2     8  \n",
       "0      2013/12-b/01/00/00.json.bz2            4    18  \n",
       "0                                             0     0  \n",
       "0  20210823/20210823000000.json.gz            1    23  "
      ]
     },
     "execution_count": 17,
     "metadata": {},
     "output_type": "execute_result"
    }
   ],
   "source": [
    "df.drop_duplicates(subset=['slash count', 'size'])"
   ]
  }
 ],
 "metadata": {
  "kernelspec": {
   "display_name": "Python 3",
   "language": "python",
   "name": "python3"
  },
  "language_info": {
   "codemirror_mode": {
    "name": "ipython",
    "version": 3
   },
   "file_extension": ".py",
   "mimetype": "text/x-python",
   "name": "python",
   "nbconvert_exporter": "python",
   "pygments_lexer": "ipython3",
   "version": "3.11.3"
  },
  "orig_nbformat": 4
 },
 "nbformat": 4,
 "nbformat_minor": 2
}
