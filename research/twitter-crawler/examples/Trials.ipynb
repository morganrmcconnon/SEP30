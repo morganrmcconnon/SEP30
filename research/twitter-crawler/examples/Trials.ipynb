{
 "cells": [
  {
   "cell_type": "code",
   "execution_count": null,
   "metadata": {},
   "outputs": [],
   "source": [
    "from twittercrawler.data_io import SocketReader"
   ]
  },
  {
   "cell_type": "code",
   "execution_count": null,
   "metadata": {},
   "outputs": [],
   "source": [
    "reader = SocketReader(7000)"
   ]
  },
  {
   "cell_type": "code",
   "execution_count": null,
   "metadata": {},
   "outputs": [],
   "source": [
    "records = []\n",
    "for msg in reader.read(return_dict=True):\n",
    "    records.append(msg)\n",
    "    print(msg)"
   ]
  },
  {
   "cell_type": "code",
   "execution_count": null,
   "metadata": {},
   "outputs": [],
   "source": [
    "reader.close()"
   ]
  },
  {
   "cell_type": "code",
   "execution_count": null,
   "metadata": {},
   "outputs": [],
   "source": [
    "import pandas as pd\n",
    "print(pd.DataFrame(records))"
   ]
  },
  {
   "cell_type": "code",
   "execution_count": null,
   "metadata": {},
   "outputs": [],
   "source": [
    "import numpy as np\n",
    "import pandas as pd\n",
    "import os, shutil"
   ]
  },
  {
   "cell_type": "code",
   "execution_count": null,
   "metadata": {},
   "outputs": [],
   "source": [
    "from twittercrawler.replies.components import SearchEngine, UserTweetStore\n",
    "from twittercrawler.replies.query import TweetQuery\n",
    "from twittercrawler.replies.collector import ReplyCollector"
   ]
  },
  {
   "cell_type": "code",
   "execution_count": null,
   "metadata": {},
   "outputs": [],
   "source": [
    "tweet_id = \"1347260116932976643\""
   ]
  },
  {
   "cell_type": "code",
   "execution_count": null,
   "metadata": {},
   "outputs": [],
   "source": [
    "from twittercrawler.crawlers import RecursiveCrawler\n",
    "crawler = RecursiveCrawler()\n",
    "crawler.authenticate(\"../api_key.json\")\n",
    "status = crawler.twitter_api.show_status(id=tweet_id, tweet_mode=\"extended\")\n",
    "q = TweetQuery(status)\n",
    "print(q)"
   ]
  },
  {
   "cell_type": "markdown",
   "metadata": {},
   "source": [
    "store = UserTweetStore(\"alma\")\n",
    "store.update(q, q.since_id+10000000)\n",
    "store.save()\n",
    "store.user_intervals"
   ]
  },
  {
   "cell_type": "markdown",
   "metadata": {},
   "source": [
    "store_tmp = UserTweetStore(\"alma\")\n",
    "store_tmp.load()\n",
    "assert store_tmp.user_intervals == store.user_intervals\n",
    "store_tmp.reset()"
   ]
  },
  {
   "cell_type": "markdown",
   "metadata": {},
   "source": [
    "tweet_ids = [\n",
    "    \"1346181687600939009\",#https://twitter.com/FogCityMidge/status/1346181687600939009\n",
    "    \"1346188735961038848\",#https://twitter.com/ThePlumLineGS/status/1346188735961038848\n",
    "    \"1346241519179718656\",#https://twitter.com/CNN/status/1346241519179718656\n",
    "    \"1346199928331251715\",#https://twitter.com/jennafarmeruk/status/1346199928331251715\n",
    "    \"1346189795261886472\",#https://twitter.com/BBCNews/status/1346189795261886472\n",
    "    \"1346149033279160323\",#https://twitter.com/MattHancock/status/1346149033279160323\n",
    "    \"1346242405465530368\",#https://twitter.com/TeaPainUSA/status/1346242405465530368 (new rumor)\n",
    "    \"1346106929140150273\",#https://twitter.com/nbcwashington/status/1346106929140150273\n",
    "    \"1345927336345137152\",#https://twitter.com/chipfranklin/status/1345927336345137152\n",
    "]"
   ]
  },
  {
   "cell_type": "markdown",
   "metadata": {},
   "source": [
    "# TODO\n",
    "\n",
    "- include artificial max_id stopping after a few minutes for the crawler?\n",
    "- if renew is on -> **update metrics** in the already exported thread as well!!!\n",
    "- write a few tests...\n",
    "- include comet logging..."
   ]
  },
  {
   "cell_type": "code",
   "execution_count": null,
   "metadata": {},
   "outputs": [],
   "source": [
    "store_dir = \"user_store\"\n",
    "collector_dir = \"vaccine_collector\""
   ]
  },
  {
   "cell_type": "markdown",
   "metadata": {},
   "source": [
    "if os.path.exists(store_dir):\n",
    "    shutil.rmtree(store_dir)"
   ]
  },
  {
   "cell_type": "markdown",
   "metadata": {},
   "source": [
    "shutil.rmtree(collector_dir)"
   ]
  },
  {
   "cell_type": "code",
   "execution_count": null,
   "metadata": {},
   "outputs": [],
   "source": [
    "comet_info = None#(\"../comet_key.txt\",\"collector_test\",\"covid-vaccine\")"
   ]
  },
  {
   "cell_type": "code",
   "execution_count": null,
   "metadata": {},
   "outputs": [],
   "source": [
    "from twittercrawler.crawlers import RecursiveCrawler\n",
    "crawler = RecursiveCrawler()\n",
    "crawler.authenticate(\"../api_key_other.json\")\n",
    "store = UserTweetStore(store_dir)\n",
    "engine = SearchEngine(crawler, store)"
   ]
  },
  {
   "cell_type": "code",
   "execution_count": null,
   "metadata": {},
   "outputs": [],
   "source": [
    "len(store.user_intervals)"
   ]
  },
  {
   "cell_type": "markdown",
   "metadata": {},
   "source": [
    "tweet_ids = [\n",
    "    \"1346615171482058754\",#https://twitter.com/roccogalatilaw/status/1346615171482058754 (anti-vaxxer - 2021-01-06)\n",
    "]"
   ]
  },
  {
   "cell_type": "markdown",
   "metadata": {},
   "source": [
    "import time\n",
    "for tweet_id in tweet_ids:\n",
    "    collector = ReplyCollector(engine, tweet_id)\n",
    "    collector.run()\n",
    "    time.sleep(300)"
   ]
  },
  {
   "cell_type": "code",
   "execution_count": null,
   "metadata": {},
   "outputs": [],
   "source": [
    "#https://twitter.com/hadleywickham/status/1347260116932976643\n",
    "collector = ReplyCollector(engine, tweet_id, collector_dir, min_engagement=1, postpone_day_limit=0, action_day_limit=1)"
   ]
  },
  {
   "cell_type": "markdown",
   "metadata": {},
   "source": [
    "store.reset()"
   ]
  },
  {
   "cell_type": "markdown",
   "metadata": {},
   "source": [
    "- 26.7 s a kis tweetre a futásidő"
   ]
  },
  {
   "cell_type": "markdown",
   "metadata": {},
   "source": [
    "import cProfile"
   ]
  },
  {
   "cell_type": "markdown",
   "metadata": {},
   "source": [
    "cProfile.run(\"collector.run(comet_info=comet_info, feedback_interval=1)\", sort=\"tottime\")"
   ]
  },
  {
   "cell_type": "code",
   "execution_count": null,
   "metadata": {},
   "outputs": [],
   "source": [
    "%%time\n",
    "collector.run(comet_info=comet_info, feedback_interval=1)"
   ]
  },
  {
   "cell_type": "code",
   "execution_count": null,
   "metadata": {},
   "outputs": [],
   "source": [
    "thread_df = pd.read_csv(\"vaccine_collector/%s/thread.csv\" % tweet_id)\n",
    "queue_df = pd.read_csv(\"vaccine_collector/%s/queue.csv\" % tweet_id)\n",
    "thread_df[\"id_str\"] = thread_df[\"id_str\"].astype(\"float64\")\n",
    "thread_df[\"user\"] = thread_df[\"user\"].apply(eval)"
   ]
  },
  {
   "cell_type": "code",
   "execution_count": null,
   "metadata": {},
   "outputs": [],
   "source": [
    "thread_df.dtypes"
   ]
  },
  {
   "cell_type": "markdown",
   "metadata": {},
   "source": [
    "### I should enforce types everywhere???"
   ]
  },
  {
   "cell_type": "code",
   "execution_count": null,
   "metadata": {},
   "outputs": [],
   "source": [
    "#repliers = set()\n",
    "edges = []\n",
    "mentions = []\n",
    "#thread_events = sorted(collector.tweet_thread, key=lambda x: x[\"id\"])\n",
    "#for tw in thread_events:\n",
    "for _, tw in thread_df.iterrows():\n",
    "    if tw[\"in_reply_to_status_id_str\"] != None:\n",
    "        edges.append((tw[\"id_str\"],tw[\"in_reply_to_status_id_str\"]))\n",
    "        mentions.append((float(tw[\"user\"][\"id_str\"]),tw[\"in_reply_to_user_id_str\"]))\n",
    "    #repliers.add(tw[\"user\"][\"screen_name\"])\n",
    "    #print(tw[\"user\"][\"screen_name\"], tw[\"created_at\"])\n",
    "    #print(tw[\"full_text\"])\n",
    "    #print()"
   ]
  },
  {
   "cell_type": "code",
   "execution_count": null,
   "metadata": {},
   "outputs": [],
   "source": [
    "import networkx as nx\n",
    "G = nx.DiGraph()\n",
    "H = nx.MultiDiGraph()\n",
    "G.add_edges_from(edges)\n",
    "_ = H.add_edges_from(mentions)"
   ]
  },
  {
   "cell_type": "code",
   "execution_count": null,
   "metadata": {},
   "outputs": [],
   "source": [
    "nx.draw(G, node_size=10)"
   ]
  },
  {
   "cell_type": "code",
   "execution_count": null,
   "metadata": {},
   "outputs": [],
   "source": [
    "nx.draw(H, node_size=10)"
   ]
  },
  {
   "cell_type": "markdown",
   "metadata": {},
   "source": [
    "### covid vaccine min_replies:100 until:2021-01-05 since:2021-01-04"
   ]
  },
  {
   "cell_type": "code",
   "execution_count": null,
   "metadata": {},
   "outputs": [],
   "source": []
  }
 ],
 "metadata": {
  "kernelspec": {
   "display_name": "Python [conda env:twittercrawler]",
   "language": "python",
   "name": "conda-env-twittercrawler-py"
  },
  "language_info": {
   "codemirror_mode": {
    "name": "ipython",
    "version": 3
   },
   "file_extension": ".py",
   "mimetype": "text/x-python",
   "name": "python",
   "nbconvert_exporter": "python",
   "pygments_lexer": "ipython3",
   "version": "3.7.10"
  }
 },
 "nbformat": 4,
 "nbformat_minor": 4
}
