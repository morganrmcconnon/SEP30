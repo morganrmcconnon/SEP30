{
 "cells": [
  {
   "cell_type": "code",
   "execution_count": 1,
   "id": "4d79fb30-2635-4b5e-aa88-1f8c4e3360b9",
   "metadata": {},
   "outputs": [],
   "source": [
    "%config IPCompleter.use_jedi=False"
   ]
  },
  {
   "cell_type": "code",
   "execution_count": 2,
   "id": "a6aade34-d07a-48b9-9e4b-cefcbc3c65d4",
   "metadata": {},
   "outputs": [],
   "source": [
    "%load_ext autoreload\n",
    "%autoreload 2"
   ]
  },
  {
   "cell_type": "markdown",
   "id": "33008a98-9efd-4c3c-a4a7-8de988647950",
   "metadata": {},
   "source": [
    "# Tweepy experiments"
   ]
  },
  {
   "cell_type": "code",
   "execution_count": 3,
   "id": "57b8321b-187f-4332-a19f-72cd92bee1e1",
   "metadata": {},
   "outputs": [],
   "source": [
    "import tweepy, json, sys\n",
    "import networkx as nx\n",
    "import pandas as pd\n",
    "import numpy as np"
   ]
  },
  {
   "cell_type": "code",
   "execution_count": 4,
   "id": "f9475282-a3c1-400b-bbeb-dae9347a9f30",
   "metadata": {},
   "outputs": [],
   "source": [
    "sys.path.insert(0,\"twittercrawler/egonet/\")\n",
    "from agents import *"
   ]
  },
  {
   "cell_type": "markdown",
   "id": "340d4c7c-52e0-4575-90c2-abe1b4e53b3b",
   "metadata": {},
   "source": [
    "## Load parameters"
   ]
  },
  {
   "cell_type": "code",
   "execution_count": 5,
   "id": "450342d5-1f36-4912-9707-fb5323a3ad2a",
   "metadata": {},
   "outputs": [],
   "source": [
    "query = {\n",
    "    \"screen_name\":\"ferencberes91\", \n",
    "    #\"screen_name\":\"Istvan_A_Seres\", \n",
    "    #\"screen_name\":\"benrozemberczki\",\n",
    "    #\"screen_name\":\"GodHatesNFTees\",\n",
    "    #\"screen_name\":\"pxRobos\",\n",
    "    \"tweet_mode\":'extended'\n",
    "}"
   ]
  },
  {
   "cell_type": "code",
   "execution_count": 6,
   "id": "74b6c63f-b391-405b-92d7-4fc9502e82cd",
   "metadata": {},
   "outputs": [],
   "source": [
    "with open(\"api_key.json\") as f:\n",
    "    credentials = json.load(f)"
   ]
  },
  {
   "cell_type": "code",
   "execution_count": 7,
   "id": "41498d79-f04c-495d-bbe8-3ca857a60a87",
   "metadata": {},
   "outputs": [],
   "source": [
    "user_agent = LookupAgent(credentials, user_mode=True)"
   ]
  },
  {
   "cell_type": "code",
   "execution_count": 8,
   "id": "b091a8ef-790c-4d96-81bb-8c061abcd313",
   "metadata": {},
   "outputs": [],
   "source": [
    "status_agent = LookupAgent(credentials, user_mode=False)"
   ]
  },
  {
   "cell_type": "markdown",
   "id": "49bf59ff-c416-4444-a190-ceaf2c1fe9e0",
   "metadata": {},
   "source": [
    "## Query followers and friends"
   ]
  },
  {
   "cell_type": "markdown",
   "id": "237694f6-1f04-4c77-8bfd-05da8da572fd",
   "metadata": {},
   "source": [
    "friend_agent = QueryUserConnections(credentials)\n",
    "follow_agent = QueryUserConnections(credentials, query_friends=False)"
   ]
  },
  {
   "cell_type": "markdown",
   "id": "a6a7fcc6-096b-47de-a358-99e528a90c36",
   "metadata": {},
   "source": [
    "friend_ids = friend_agent.execute(query[\"screen_name\"])\n",
    "len(friend_ids)"
   ]
  },
  {
   "cell_type": "markdown",
   "id": "1797c312-8e23-4654-8b9f-a35ff3079601",
   "metadata": {},
   "source": [
    "user_agent.add(friend_ids)"
   ]
  },
  {
   "cell_type": "markdown",
   "id": "9b3feebd-d73c-4cef-8c3d-22ac34965cfc",
   "metadata": {},
   "source": [
    "follow_ids = follow_agent.execute(query[\"screen_name\"])\n",
    "len(follow_ids)"
   ]
  },
  {
   "cell_type": "markdown",
   "id": "19dad943-ad8a-4e46-9e68-e0dab0b5d17b",
   "metadata": {},
   "source": [
    "user_agent.add(follow_ids)"
   ]
  },
  {
   "cell_type": "markdown",
   "id": "db1e270d-f00b-4960-bf33-4506c5b3517c",
   "metadata": {},
   "source": [
    "#### Notes: környezet felderítése\n",
    "- friend-eket mindig lekérjük - gyorsan megy (jellemzi a user-t)\n",
    "- followerek: itt csak azokat kérjük le akik az adatban több fiókot is követnek - (pl. MAC esetén nem fogunk 500K fiókot lekérdezni...)"
   ]
  },
  {
   "cell_type": "code",
   "execution_count": 9,
   "id": "86f866f4-b4cf-4508-a4a2-4e69d253e09b",
   "metadata": {},
   "outputs": [],
   "source": [
    "class TimelineAgent(BaseAgent):\n",
    "    def __init__(self, credentials, wait_on_rate_limit=True):\n",
    "        super(TimelineAgent, self).__init__(credentials, wait_on_rate_limit, True)\n",
    "        self._clear_cache()\n",
    "    \n",
    "    def _clear_cache(self):\n",
    "        self.known_users = []\n",
    "        self.known_user_ids = set()\n",
    "        self.unknown_user_ids = set()\n",
    "        self.relations = []\n",
    "        self.statuses = []\n",
    "        \n",
    "    def _process_mentions(self, status):\n",
    "        source_user_id = status[\"user\"][\"id\"]\n",
    "        status_id = status[\"id\"]\n",
    "        if \"user_mentions\" in status[\"entities\"]:\n",
    "            for mention in status[\"entities\"][\"user_mentions\"]:\n",
    "                target_user_id = mention[\"id\"]\n",
    "                mention_relation = {\"status\": status_id, \"user\": target_user_id, \"type\":\"mention\"}\n",
    "                self.unknown_user_ids.add(target_user_id)\n",
    "                self.relations.append(mention_relation)\n",
    "                \n",
    "    def _process_relations(self, status):\n",
    "        source_user_id = status[\"user\"][\"id\"]\n",
    "        status_id = status[\"id\"]\n",
    "        if not source_user_id in self.known_user_ids:\n",
    "            self.known_users.append(status[\"user\"])\n",
    "        self.known_user_ids.add(source_user_id)\n",
    "        author_relation = {\"status\": status_id, \"user\": source_user_id, \"type\":\"author\"}\n",
    "        self.relations.append(author_relation)\n",
    "        retweet = None\n",
    "        if 'retweeted_status' in status:\n",
    "            reweet = status['retweeted_status']\n",
    "            retweet_relation = {\"status\": reweet['id'], \"user\": source_user_id, \"type\":\"retweet\"}\n",
    "            self.relations.append(retweet_relation)\n",
    "        return retweet\n",
    "        #TODO: in_reply_to etc.\n",
    "    \"\"\"\n",
    "    def _collect_retweets(self, status):\n",
    "        status_id = status[\"id\"]\n",
    "        retweets = []\n",
    "        try:\n",
    "            retweets = timeline.api.get_retweeter_ids(id=status_id)\n",
    "        except Exception as ex:\n",
    "            print(ex)\n",
    "        #finally:\n",
    "        #    for user_id in retweets:\n",
    "        # TODO: finish!!\n",
    "    \"\"\" \n",
    "    def _handle_status(self, status):\n",
    "        self.statuses.append(status)\n",
    "        self._process_mentions(status)\n",
    "        retweeted = self._process_relations(status)\n",
    "        if retweeted != None:\n",
    "            self._handle_status(retweeted)\n",
    "    \n",
    "    def _process_query(self, query_result):\n",
    "        for tweepy_status in query_result:\n",
    "            self._handle_status(tweepy_status._json)\n",
    "        self.unknown_user_ids = self.unknown_user_ids.difference(self.known_user_ids)\n",
    "        \n",
    "    def _get_mention_results(self, query):\n",
    "        # code below only works for authenticated user!\n",
    "        #mentions_result = self.api.mentions_timeline(**query)\n",
    "        result = self.client.get_user(username=query[\"screen_name\"])\n",
    "        mentions_result = []\n",
    "        for response in tweepy.Paginator(self.client.get_users_mentions, result.data.id, max_results=100, limit=3):\n",
    "            status_ids = [mention.id for mention in response.data]\n",
    "            mentions_result += self.api.lookup_statuses(id=status_ids, tweet_mode='extended')\n",
    "        #print(len(mentions_result))\n",
    "        return mentions_result\n",
    "    \n",
    "    def make_user_query(self, query):\n",
    "        self._clear_cache()\n",
    "        mentions_result = self._get_mention_results(query)\n",
    "        self._process_query(mentions_result)\n",
    "        # TODO: pagination with old api!!!\n",
    "        timeline_result = self.api.user_timeline(**query)\n",
    "        self._process_query(timeline_result)"
   ]
  },
  {
   "cell_type": "code",
   "execution_count": 10,
   "id": "22193fa3-59c6-43e1-b2bf-fe3478a8c90e",
   "metadata": {},
   "outputs": [],
   "source": [
    "timeline = TimelineAgent(credentials)"
   ]
  },
  {
   "cell_type": "code",
   "execution_count": 11,
   "id": "21eb4beb-92c9-4d62-afd1-a12fb3426230",
   "metadata": {},
   "outputs": [
    {
     "name": "stdout",
     "output_type": "stream",
     "text": [
      "24 57 310 64\n"
     ]
    }
   ],
   "source": [
    "timeline.make_user_query(query)\n",
    "print(len(timeline.known_user_ids), len(timeline.unknown_user_ids), len(timeline.relations), len(timeline.statuses))"
   ]
  },
  {
   "cell_type": "code",
   "execution_count": 12,
   "id": "d5dc4182-4fd6-4c4a-ae90-a45dcb766ba8",
   "metadata": {},
   "outputs": [],
   "source": [
    "relations_df = pd.DataFrame(timeline.relations)"
   ]
  },
  {
   "cell_type": "code",
   "execution_count": 13,
   "id": "4300225f-6de9-478e-aa55-9c0cf31a766f",
   "metadata": {},
   "outputs": [],
   "source": [
    "#TODO: add timestamp for edges!!!\n",
    "def extract_network(relations_df):\n",
    "    link_events = {\n",
    "        \"author\":\"red\",\n",
    "        \"retweet\":\"green\",\n",
    "        \"mention\":\"blue\"   \n",
    "    }\n",
    "    event_dataframes = {}\n",
    "    edges = []\n",
    "    for event, color in link_events.items():\n",
    "        event_df = pd.DataFrame(relations_df[relations_df[\"type\"]==event])\n",
    "        print(event_df.shape)\n",
    "        edges += list(zip(event_df[\"user\"], event_df[\"status\"], [{\"color\":color}]*len(event_df)))\n",
    "        event_dataframes[event] = event_df\n",
    "    G = nx.MultiDiGraph()\n",
    "    _ = G.add_edges_from(edges)\n",
    "    print(G.number_of_edges(), G.number_of_nodes(), len(list(nx.connected_components(G.to_undirected()))))\n",
    "    return G, event_dataframes"
   ]
  },
  {
   "cell_type": "code",
   "execution_count": 14,
   "id": "1af263ad-b11f-4ccd-be52-61b26b9f6932",
   "metadata": {},
   "outputs": [
    {
     "name": "stdout",
     "output_type": "stream",
     "text": [
      "(64, 3)\n",
      "(14, 3)\n",
      "(232, 3)\n",
      "310 155 1\n"
     ]
    }
   ],
   "source": [
    "G, event_dataframes = extract_network(relations_df)"
   ]
  },
  {
   "cell_type": "markdown",
   "id": "72ab81eb-9b1c-4ed2-815e-8729dd1d5001",
   "metadata": {},
   "source": [
    "### Some users and statuses are queried multiple times!!! - TODO: reduce duplication in queries"
   ]
  },
  {
   "cell_type": "code",
   "execution_count": 15,
   "id": "99e8ba15-03c6-43c3-b6a9-df40fb6556ca",
   "metadata": {},
   "outputs": [],
   "source": [
    "for event, event_df in event_dataframes.items():\n",
    "    user_agent.add(list(event_df[\"user\"]))\n",
    "    status_agent.add(list(event_df[\"status\"]))"
   ]
  },
  {
   "cell_type": "code",
   "execution_count": 16,
   "id": "445023e7-cdbb-45e2-9aee-e32598c21e2a",
   "metadata": {},
   "outputs": [
    {
     "data": {
      "text/plain": [
       "(310, 310)"
      ]
     },
     "execution_count": 16,
     "metadata": {},
     "output_type": "execute_result"
    }
   ],
   "source": [
    "len(user_agent), len(status_agent)"
   ]
  },
  {
   "cell_type": "code",
   "execution_count": 17,
   "id": "21ef953a-4f9c-45c6-a99e-2d44c7d70c15",
   "metadata": {},
   "outputs": [
    {
     "data": {
      "text/plain": [
       "112"
      ]
     },
     "execution_count": 17,
     "metadata": {},
     "output_type": "execute_result"
    }
   ],
   "source": [
    "users = user_agent.execute(force=True)\n",
    "len(users)"
   ]
  },
  {
   "cell_type": "code",
   "execution_count": 18,
   "id": "20c3f066-44e7-4899-a6bc-e350042de07b",
   "metadata": {},
   "outputs": [
    {
     "data": {
      "text/plain": [
       "131"
      ]
     },
     "execution_count": 18,
     "metadata": {},
     "output_type": "execute_result"
    }
   ],
   "source": [
    "statuses = status_agent.execute(force=True)\n",
    "len(statuses)"
   ]
  },
  {
   "cell_type": "code",
   "execution_count": 19,
   "id": "4e4a2af5-df60-461b-838f-fdbf2a327c74",
   "metadata": {},
   "outputs": [],
   "source": [
    "replied_statuses = []\n",
    "reply_edges = []\n",
    "for status in statuses:\n",
    "    status_id = status.id\n",
    "    if status.in_reply_to_status_id != None:\n",
    "        replied_status = status.in_reply_to_status_id\n",
    "        reply_edges.append((status_id, replied_status, {\"color\":\"black\"}))\n",
    "        replied_statuses.append(replied_status)\n",
    "_ = G.add_edges_from(reply_edges)"
   ]
  },
  {
   "cell_type": "code",
   "execution_count": 20,
   "id": "45ffaa8c-8056-4cf3-8571-b23c72ae1f73",
   "metadata": {},
   "outputs": [],
   "source": [
    "status_agent.add(replied_statuses)"
   ]
  },
  {
   "cell_type": "code",
   "execution_count": 21,
   "id": "9b8741ca-9273-41b0-8521-59dbbedad503",
   "metadata": {},
   "outputs": [],
   "source": [
    "statuses += status_agent.execute(force=True)"
   ]
  },
  {
   "cell_type": "code",
   "execution_count": 22,
   "id": "2f26b025-caf8-4677-bcb4-d4024300f1f6",
   "metadata": {},
   "outputs": [
    {
     "name": "stdout",
     "output_type": "stream",
     "text": [
      "81\n",
      "80\n"
     ]
    }
   ],
   "source": [
    "nodes = G.nodes\n",
    "user_meta = {}\n",
    "for user in users:\n",
    "    if user.id in nodes:\n",
    "        user_meta[user.id] = user\n",
    "print(len(user_meta))\n",
    "\n",
    "status_meta = {}\n",
    "for status in statuses:\n",
    "    if user.id in nodes:\n",
    "        status_meta[status.id] = status\n",
    "print(len(status_meta))"
   ]
  },
  {
   "cell_type": "code",
   "execution_count": 23,
   "id": "70c07b45-7e94-4a40-a0d9-36885154ebfd",
   "metadata": {},
   "outputs": [],
   "source": [
    "labels, titles, shapes, values, titles, colors = {}, {}, {}, {}, {}, {}\n",
    "for node in nodes:\n",
    "    if node in user_meta:\n",
    "        shapes[node] = \"dot\"\n",
    "        values[node] = np.log2(1+user_meta[node].followers_count)\n",
    "        labels[node] = user_meta[node].name\n",
    "        titles[node] = user_meta[node].description\n",
    "    elif node in status_meta:\n",
    "        shapes[node] = \"square\"\n",
    "        interactions = status_meta[node].favorite_count + status_meta[node].retweet_count\n",
    "        values[node] = np.log2(1+interactions)\n",
    "        labels[node] = status_meta[node].created_at.strftime(\"%Y-%m-%d\")\n",
    "        titles[node] = status_meta[node].full_text\n",
    "    else:\n",
    "        colors[node] = \"red\"\n",
    "        print(node)\n",
    "nx.set_node_attributes(G, labels, \"label\")\n",
    "nx.set_node_attributes(G, shapes, \"shape\")\n",
    "nx.set_node_attributes(G, values, \"value\")\n",
    "nx.set_node_attributes(G, titles, \"title\")\n",
    "nx.set_node_attributes(G, colors, \"color\")"
   ]
  },
  {
   "cell_type": "code",
   "execution_count": 24,
   "id": "e622fdbd-5c3c-411f-a090-089f4f8e41df",
   "metadata": {},
   "outputs": [],
   "source": [
    "from pyvis.network import Network\n",
    "net = Network(notebook=True, height='1000px', width='1200px')\n",
    "net.from_nx(G)"
   ]
  },
  {
   "cell_type": "markdown",
   "id": "e195ab41-ad8a-4941-a652-b38f8c1cb243",
   "metadata": {},
   "source": [
    "### Pagination is missing for a lot of endpoints!!!\n",
    "### TODO: collect media as well!!!\n",
    "### TODO: put it into database!!!\n",
    "### TODO: graphvis does not work for large graphs - constant movement\n",
    "### TODO: not all mentioned users are processed from statuses!!!"
   ]
  },
  {
   "cell_type": "code",
   "execution_count": 25,
   "id": "1c7c6209-9f82-4e7a-a217-6a44e2c9fd3c",
   "metadata": {},
   "outputs": [
    {
     "data": {
      "text/html": [
       "\n",
       "        <iframe\n",
       "            width=\"1200px\"\n",
       "            height=\"1000px\"\n",
       "            src=\"test.html\"\n",
       "            frameborder=\"0\"\n",
       "            allowfullscreen\n",
       "        ></iframe>\n",
       "        "
      ],
      "text/plain": [
       "<IPython.lib.display.IFrame at 0x7f6fc1bc6150>"
      ]
     },
     "execution_count": 25,
     "metadata": {},
     "output_type": "execute_result"
    }
   ],
   "source": [
    "net.show(\"test.html\")"
   ]
  },
  {
   "cell_type": "markdown",
   "id": "ee45b238-696b-4f27-94f0-402fa34a582b",
   "metadata": {},
   "source": [
    "timeline.statuses[-1]"
   ]
  },
  {
   "cell_type": "markdown",
   "id": "40bf0b5f",
   "metadata": {},
   "source": [
    "#### User status is alwys up to date... for past tweets the past user state is hidden..."
   ]
  },
  {
   "cell_type": "markdown",
   "id": "53610c2d-8928-46b3-9fbb-1d93f2bc7b47",
   "metadata": {},
   "source": [
    "#### Finally query information on every user"
   ]
  },
  {
   "cell_type": "markdown",
   "id": "3f0811b7-7237-4422-a2b9-db4e306e2fb3",
   "metadata": {},
   "source": [
    "retweets = []\n",
    "try:\n",
    "    retweets = timeline.api.get_retweeter_ids(id=737748119966879744)\n",
    "except Exception as ex:\n",
    "    print(ex)\n",
    "finally:\n",
    "    print(retweets)\n",
    "    \n",
    "#1240674204665741312)\n",
    "#1241076920512434177)\n",
    "#737748119966879744)"
   ]
  },
  {
   "cell_type": "markdown",
   "id": "5e40bd59-ef46-4787-bda1-ad5af899dc7e",
   "metadata": {},
   "source": [
    "retweets"
   ]
  },
  {
   "cell_type": "markdown",
   "id": "77956057-b776-4f28-9fd4-a29af984031a",
   "metadata": {},
   "source": [
    "timeline.statuses[-1]"
   ]
  },
  {
   "cell_type": "markdown",
   "id": "7bd59c56",
   "metadata": {},
   "source": [
    "# Trekking trial"
   ]
  },
  {
   "cell_type": "markdown",
   "id": "95e7f492-b920-4053-81a9-b8ed59ad6df9",
   "metadata": {},
   "source": [
    "from datetime import datetime as dt "
   ]
  },
  {
   "cell_type": "markdown",
   "id": "6896dd56-5420-437c-ab08-0bfeb3111d7a",
   "metadata": {},
   "source": [
    "with open(\"twittercrawler.json\") as f:\n",
    "    trekking_credentials = json.load(f)"
   ]
  },
  {
   "cell_type": "markdown",
   "id": "2c182217-3113-419b-862f-5dce52018212",
   "metadata": {},
   "source": [
    "query = \"#dolomites has:geo\"\n",
    "start_time = \"2018-09-01T0:00:00Z\"\n",
    "end_time = \"2018-09-02T0:00:00Z\""
   ]
  },
  {
   "cell_type": "markdown",
   "id": "299de7da-1da6-403d-9916-691f478657d7",
   "metadata": {},
   "source": [
    "res = client.search_all_tweets(query=query, start_time=start_time, end_time=end_time)"
   ]
  },
  {
   "cell_type": "markdown",
   "id": "8fc5e7ee",
   "metadata": {},
   "source": [
    "TODO: #dolomiti #dolomiten #mountains"
   ]
  },
  {
   "cell_type": "code",
   "execution_count": 26,
   "id": "47e80171-851e-4393-9f69-cc4d398870c7",
   "metadata": {},
   "outputs": [],
   "source": [
    "client = timeline.client"
   ]
  },
  {
   "cell_type": "code",
   "execution_count": 27,
   "id": "c75eed23-2a9b-4046-aeed-30b68df13cf1",
   "metadata": {},
   "outputs": [
    {
     "name": "stdout",
     "output_type": "stream",
     "text": [
      "{'result_count': 10, 'next_token': '2KURHUMHVKD1GZZZ'}\n",
      "{'result_count': 10, 'next_token': '0CMHN3JGTSD1GZZZ', 'previous_token': '55I5N94K0BIUEZZZ'}\n"
     ]
    }
   ],
   "source": [
    "for response in tweepy.Paginator(client.get_users_followers, 2244994945,\n",
    "                                    max_results=10, limit=2):\n",
    "    print(response.meta)"
   ]
  },
  {
   "cell_type": "code",
   "execution_count": 28,
   "id": "b6acde0a-781d-4e1e-9b0b-018f37cf9f00",
   "metadata": {},
   "outputs": [
    {
     "data": {
      "text/plain": [
       "Response(data=[<User id=1484210598133080068 name=Avisna username=Avisna22>, <User id=2207660990 name=Julien Perrochet username=0xTelegraph>, <User id=1508949068218712066 name=pick username=yanhua131>, <User id=1315984086188658691 name=Daily Dose of Nature username=DailyDONature>, <User id=66946490 name=panda_dy username=panda_dy>, <User id=357654084 name=Hasan username=hasanaribas>, <User id=1478555076855668736 name=Sri Lanka username=SriLankansWe>, <User id=1002635179406647296 name=Israel username=Israelorere>, <User id=1449140986408431616 name=8P Studios username=8pstudios>, <User id=1541379971192586250 name=Sami username=Sami1986shoja>], includes={}, errors=[], meta={'result_count': 10, 'next_token': '0CMHN3JGTSD1GZZZ', 'previous_token': '55I5N94K0BIUEZZZ'})"
      ]
     },
     "execution_count": 28,
     "metadata": {},
     "output_type": "execute_result"
    }
   ],
   "source": [
    "response"
   ]
  },
  {
   "cell_type": "markdown",
   "id": "d8162e96-70d9-4a05-bbb8-7a7b3b55d813",
   "metadata": {},
   "source": [
    "res = client.get_user(username=\"Istvan_A_Seres\")\n",
    "#mentions = client.get_users_mentions(res.data.id, max_results=5)"
   ]
  },
  {
   "cell_type": "markdown",
   "id": "11492c04-fcae-4204-bfaf-7b3293a54d11",
   "metadata": {},
   "source": [
    "for response in tweepy.Paginator(client.get_users_mentions, res.data.id, max_results=5).flatten(limit=15):#, limit=20):\n",
    "    #print(response.meta)\n",
    "    print(response.id)"
   ]
  },
  {
   "cell_type": "markdown",
   "id": "4e0801d5-7a0e-4740-8535-5262ff5e3aaa",
   "metadata": {},
   "source": [
    "likes = client.get_liking_users(mention.id)\n",
    "likes"
   ]
  },
  {
   "cell_type": "code",
   "execution_count": 29,
   "id": "a9182120-23b0-4dd2-a236-6d2977bdcbea",
   "metadata": {},
   "outputs": [
    {
     "ename": "Unauthorized",
     "evalue": "401 Unauthorized\nUnauthorized",
     "output_type": "error",
     "traceback": [
      "\u001b[0;31m---------------------------------------------------------------------------\u001b[0m",
      "\u001b[0;31mUnauthorized\u001b[0m                              Traceback (most recent call last)",
      "\u001b[0;32m<ipython-input-29-6f3c5bda0011>\u001b[0m in \u001b[0;36m<module>\u001b[0;34m\u001b[0m\n\u001b[1;32m      2\u001b[0m \u001b[0;34m\u001b[0m\u001b[0m\n\u001b[1;32m      3\u001b[0m for response in tweepy.Paginator(client.get_users_followers, 2244994945,\n\u001b[0;32m----> 4\u001b[0;31m                                     max_results=1000, limit=5):\n\u001b[0m\u001b[1;32m      5\u001b[0m     \u001b[0mprint\u001b[0m\u001b[0;34m(\u001b[0m\u001b[0mresponse\u001b[0m\u001b[0;34m.\u001b[0m\u001b[0mmeta\u001b[0m\u001b[0;34m)\u001b[0m\u001b[0;34m\u001b[0m\u001b[0;34m\u001b[0m\u001b[0m\n\u001b[1;32m      6\u001b[0m \u001b[0;34m\u001b[0m\u001b[0m\n",
      "\u001b[0;32m~/anaconda3/envs/twittercrawler/lib/python3.7/site-packages/tweepy/pagination.py\u001b[0m in \u001b[0;36m__next__\u001b[0;34m(self)\u001b[0m\n\u001b[1;32m     96\u001b[0m             \u001b[0mself\u001b[0m\u001b[0;34m.\u001b[0m\u001b[0mkwargs\u001b[0m\u001b[0;34m[\u001b[0m\u001b[0;34m\"pagination_token\"\u001b[0m\u001b[0;34m]\u001b[0m \u001b[0;34m=\u001b[0m \u001b[0mpagination_token\u001b[0m\u001b[0;34m\u001b[0m\u001b[0;34m\u001b[0m\u001b[0m\n\u001b[1;32m     97\u001b[0m \u001b[0;34m\u001b[0m\u001b[0m\n\u001b[0;32m---> 98\u001b[0;31m         \u001b[0mresponse\u001b[0m \u001b[0;34m=\u001b[0m \u001b[0mself\u001b[0m\u001b[0;34m.\u001b[0m\u001b[0mmethod\u001b[0m\u001b[0;34m(\u001b[0m\u001b[0;34m*\u001b[0m\u001b[0mself\u001b[0m\u001b[0;34m.\u001b[0m\u001b[0margs\u001b[0m\u001b[0;34m,\u001b[0m \u001b[0;34m**\u001b[0m\u001b[0mself\u001b[0m\u001b[0;34m.\u001b[0m\u001b[0mkwargs\u001b[0m\u001b[0;34m)\u001b[0m\u001b[0;34m\u001b[0m\u001b[0;34m\u001b[0m\u001b[0m\n\u001b[0m\u001b[1;32m     99\u001b[0m \u001b[0;34m\u001b[0m\u001b[0m\n\u001b[1;32m    100\u001b[0m         \u001b[0mself\u001b[0m\u001b[0;34m.\u001b[0m\u001b[0mprevious_token\u001b[0m \u001b[0;34m=\u001b[0m \u001b[0mresponse\u001b[0m\u001b[0;34m.\u001b[0m\u001b[0mmeta\u001b[0m\u001b[0;34m.\u001b[0m\u001b[0mget\u001b[0m\u001b[0;34m(\u001b[0m\u001b[0;34m\"previous_token\"\u001b[0m\u001b[0;34m)\u001b[0m\u001b[0;34m\u001b[0m\u001b[0;34m\u001b[0m\u001b[0m\n",
      "\u001b[0;32m~/anaconda3/envs/twittercrawler/lib/python3.7/site-packages/tweepy/client.py\u001b[0m in \u001b[0;36mget_users_followers\u001b[0;34m(self, id, user_auth, **params)\u001b[0m\n\u001b[1;32m   2085\u001b[0m                 \u001b[0;34m\"tweet.fields\"\u001b[0m\u001b[0;34m,\u001b[0m \u001b[0;34m\"user.fields\"\u001b[0m\u001b[0;34m\u001b[0m\u001b[0;34m\u001b[0m\u001b[0m\n\u001b[1;32m   2086\u001b[0m             ),\n\u001b[0;32m-> 2087\u001b[0;31m             \u001b[0mdata_type\u001b[0m\u001b[0;34m=\u001b[0m\u001b[0mUser\u001b[0m\u001b[0;34m,\u001b[0m \u001b[0muser_auth\u001b[0m\u001b[0;34m=\u001b[0m\u001b[0muser_auth\u001b[0m\u001b[0;34m\u001b[0m\u001b[0;34m\u001b[0m\u001b[0m\n\u001b[0m\u001b[1;32m   2088\u001b[0m         )\n\u001b[1;32m   2089\u001b[0m \u001b[0;34m\u001b[0m\u001b[0m\n",
      "\u001b[0;32m~/anaconda3/envs/twittercrawler/lib/python3.7/site-packages/tweepy/client.py\u001b[0m in \u001b[0;36m_make_request\u001b[0;34m(self, method, route, params, endpoint_parameters, json, data_type, user_auth)\u001b[0m\n\u001b[1;32m    125\u001b[0m \u001b[0;34m\u001b[0m\u001b[0m\n\u001b[1;32m    126\u001b[0m         response = self.request(method, route, params=request_params,\n\u001b[0;32m--> 127\u001b[0;31m                                 json=json, user_auth=user_auth)\n\u001b[0m\u001b[1;32m    128\u001b[0m \u001b[0;34m\u001b[0m\u001b[0m\n\u001b[1;32m    129\u001b[0m         \u001b[0;32mif\u001b[0m \u001b[0mself\u001b[0m\u001b[0;34m.\u001b[0m\u001b[0mreturn_type\u001b[0m \u001b[0;32mis\u001b[0m \u001b[0mrequests\u001b[0m\u001b[0;34m.\u001b[0m\u001b[0mResponse\u001b[0m\u001b[0;34m:\u001b[0m\u001b[0;34m\u001b[0m\u001b[0;34m\u001b[0m\u001b[0m\n",
      "\u001b[0;32m~/anaconda3/envs/twittercrawler/lib/python3.7/site-packages/tweepy/client.py\u001b[0m in \u001b[0;36mrequest\u001b[0;34m(self, method, route, params, json, user_auth)\u001b[0m\n\u001b[1;32m     95\u001b[0m                 \u001b[0;32mraise\u001b[0m \u001b[0mBadRequest\u001b[0m\u001b[0;34m(\u001b[0m\u001b[0mresponse\u001b[0m\u001b[0;34m)\u001b[0m\u001b[0;34m\u001b[0m\u001b[0;34m\u001b[0m\u001b[0m\n\u001b[1;32m     96\u001b[0m             \u001b[0;32mif\u001b[0m \u001b[0mresponse\u001b[0m\u001b[0;34m.\u001b[0m\u001b[0mstatus_code\u001b[0m \u001b[0;34m==\u001b[0m \u001b[0;36m401\u001b[0m\u001b[0;34m:\u001b[0m\u001b[0;34m\u001b[0m\u001b[0;34m\u001b[0m\u001b[0m\n\u001b[0;32m---> 97\u001b[0;31m                 \u001b[0;32mraise\u001b[0m \u001b[0mUnauthorized\u001b[0m\u001b[0;34m(\u001b[0m\u001b[0mresponse\u001b[0m\u001b[0;34m)\u001b[0m\u001b[0;34m\u001b[0m\u001b[0;34m\u001b[0m\u001b[0m\n\u001b[0m\u001b[1;32m     98\u001b[0m             \u001b[0;32mif\u001b[0m \u001b[0mresponse\u001b[0m\u001b[0;34m.\u001b[0m\u001b[0mstatus_code\u001b[0m \u001b[0;34m==\u001b[0m \u001b[0;36m403\u001b[0m\u001b[0;34m:\u001b[0m\u001b[0;34m\u001b[0m\u001b[0;34m\u001b[0m\u001b[0m\n\u001b[1;32m     99\u001b[0m                 \u001b[0;32mraise\u001b[0m \u001b[0mForbidden\u001b[0m\u001b[0;34m(\u001b[0m\u001b[0mresponse\u001b[0m\u001b[0;34m)\u001b[0m\u001b[0;34m\u001b[0m\u001b[0;34m\u001b[0m\u001b[0m\n",
      "\u001b[0;31mUnauthorized\u001b[0m: 401 Unauthorized\nUnauthorized"
     ]
    }
   ],
   "source": [
    "client = tweepy.Client(\"Bearer Token here\")\n",
    "\n",
    "for response in tweepy.Paginator(client.get_users_followers, 2244994945,\n",
    "                                    max_results=1000, limit=5):\n",
    "    print(response.meta)\n",
    "\n",
    "for tweet in tweepy.Paginator(client.search_recent_tweets, \"Tweepy\",\n",
    "                                max_results=100).flatten(limit=250):\n",
    "    print(tweet.id)"
   ]
  }
 ],
 "metadata": {
  "kernelspec": {
   "display_name": "Python [conda env:twittercrawler] *",
   "language": "python",
   "name": "conda-env-twittercrawler-py"
  },
  "language_info": {
   "codemirror_mode": {
    "name": "ipython",
    "version": 3
   },
   "file_extension": ".py",
   "mimetype": "text/x-python",
   "name": "python",
   "nbconvert_exporter": "python",
   "pygments_lexer": "ipython3",
   "version": "3.7.10"
  }
 },
 "nbformat": 4,
 "nbformat_minor": 5
}
